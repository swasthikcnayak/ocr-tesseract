{
 "cells": [
  {
   "cell_type": "code",
   "execution_count": 1,
   "metadata": {},
   "outputs": [],
   "source": [
    "import cv2\n",
    "import pytesseract\n",
    "import matplotlib.pyplot as plt\n",
    "import numpy as np"
   ]
  },
  {
   "cell_type": "code",
   "execution_count": 7,
   "metadata": {},
   "outputs": [],
   "source": [
    "#loading image in grayscale and making it as white on black background\n",
    "filename = \"sample.jpg\"\n",
    "image = cv2.imread(filename,0)\n",
    "copy = image.copy()\n",
    "cv2.imshow('Gray image', image)\n",
    "cv2.waitKey(0)\n",
    "cv2.destroyAllWindows()"
   ]
  },
  {
   "cell_type": "code",
   "execution_count": 8,
   "metadata": {},
   "outputs": [],
   "source": [
    "#applying otsu threshold on image not required\n",
    "image = cv2.threshold(image,0,255,cv2.THRESH_OTSU)[1]\n",
    "cv2.imshow('otsu',image)\n",
    "cv2.waitKey(0)\n",
    "cv2.destroyAllWindows()"
   ]
  },
  {
   "cell_type": "code",
   "execution_count": 62,
   "metadata": {},
   "outputs": [],
   "source": [
    "#removing noise from the image - not required\n",
    "image = cv2.fastNlMeansDenoising(image,12,12,7,21)\n",
    "cv2.imshow('noise removed',image)\n",
    "\n",
    "cv2.waitKey(0)\n",
    "cv2.destroyAllWindows()"
   ]
  },
  {
   "cell_type": "code",
   "execution_count": 3,
   "metadata": {},
   "outputs": [],
   "source": [
    "#proper aligning the text in the image = skew correction not required\n",
    "image = cv2.bitwise_not(image)\n",
    "image = cv2.threshold(image,0,255,cv2.THRESH_BINARY|cv2.THRESH_OTSU)[1]\n",
    "cords=np.column_stack(np.where(image>0))\n",
    "angle = cv2.minAreaRect(cords)[-1]\n",
    "if angle < -45:\n",
    "    angle = -(90+angle)\n",
    "else:\n",
    "    angle = -angle\n",
    "    (h,w) = image.shape[:2]\n",
    "center = (w//2,h//2)\n",
    "M = cv2.getRotationMatrix2D(center,angle,1.0)\n",
    "rotated = cv2.warpAffine(image,M,(w,h),flags = cv2.INTER_CUBIC, borderMode = cv2.BORDER_REPLICATE)\n",
    "image = cv2.bitwise_not(image)\n",
    "cv2.imshow(\"Input\", image)\n",
    "rotated = cv2.bitwise_not(rotated)\n",
    "cv2.imshow(\"Rotated\", rotated)\n",
    "cv2.waitKey(0)\n",
    "cv2.destroyAllWindows()"
   ]
  },
  {
   "cell_type": "code",
   "execution_count": 6,
   "metadata": {},
   "outputs": [
    {
     "name": "stdout",
     "output_type": "stream",
     "text": [
      "& Our new location in\n",
      "Queen Anne is now open!\n",
      "Come celebrate with us and\n",
      "get 15% off your purchase\n",
      "today through Saturday. See\n",
      "you there!\n",
      "\n",
      "JP — Seattle Wellness Shop —\n",
      "Text STOP to unsubscribe\n",
      "\f",
      "\n"
     ]
    }
   ],
   "source": [
    "text = pytesseract.image_to_string(copy)\n",
    "print(text)"
   ]
  },
  {
   "cell_type": "code",
   "execution_count": null,
   "metadata": {},
   "outputs": [],
   "source": []
  }
 ],
 "metadata": {
  "kernelspec": {
   "display_name": "computervision",
   "language": "python",
   "name": "computervision"
  },
  "language_info": {
   "codemirror_mode": {
    "name": "ipython",
    "version": 3
   },
   "file_extension": ".py",
   "mimetype": "text/x-python",
   "name": "python",
   "nbconvert_exporter": "python",
   "pygments_lexer": "ipython3",
   "version": "3.7.9"
  }
 },
 "nbformat": 4,
 "nbformat_minor": 4
}
